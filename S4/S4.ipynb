{
  "nbformat": 4,
  "nbformat_minor": 0,
  "metadata": {
    "colab": {
      "provenance": []
    },
    "kernelspec": {
      "name": "python3",
      "display_name": "Python 3"
    },
    "language_info": {
      "name": "python"
    }
  },
  "cells": [
    {
      "cell_type": "markdown",
      "metadata": {
        "id": "AL83i7MKcPLX"
      },
      "source": [
        "#BINV3100 ML S4 : Théorie\n",
        "\n",
        "##Vidéos obligatoires\n",
        "Nous vous demandons de regarder et de compredre les vidéos suivante:\n",
        "\n",
        "1.   [PRE-PROCESSING](https://www.youtube.com/watch?v=OGWwzm304Xs&list=PLO_fdPEVlfKqMDNmCFzQISI2H_nJcEDJq&index=24)\n",
        "2.   [IMPUTER : NETTOYAGE DE DONNÉES](https://www.youtube.com/watch?v=QVEJJNsz-eM&list=PLO_fdPEVlfKqMDNmCFzQISI2H_nJcEDJq&index=26)\n",
        "3.   [EXPLORATION DES DONNÉES](https://www.youtube.com/watch?v=u64sWJEP4S0&list=PLO_fdPEVlfKqMDNmCFzQISI2H_nJcEDJq&index=31)\n",
        "\n",
        "\n",
        "A la fin de chaque vidéo, un exercice est proposé. Vous retrouverez ces exercices dans la Partie 1 des exercices de cette semaine\n",
        "\n",
        "## La vidéo suivante est en bonus:\n",
        "\n",
        "6.  [PIPELINE AVANCÉE](https://www.youtube.com/watch?v=41mnga4ptso&list=PLO_fdPEVlfKqMDNmCFzQISI2H_nJcEDJq&index=25)"
      ]
    },
    {
      "cell_type": "markdown",
      "metadata": {
        "id": "Js5X-FAlxHxg"
      },
      "source": [
        "# Partie 1: Exercices relatifs aux Vidéos Machine Learnia\n",
        "\n",
        "[Lien vers la playlist Machine Learnia](https://www.youtube.com/playlist?list=PLO_fdPEVlfKqMDNmCFzQISI2H_nJcEDJq)\n",
        "\n"
      ]
    },
    {
      "cell_type": "markdown",
      "metadata": {
        "id": "gN0ixxrp6NWi"
      },
      "source": [
        "## Vidéos (22 et 23 /30) :\n",
        "\n",
        "[MÉTRIQUE DE RÉGRESSION](https://www.youtube.com/watch?v=_TE9fDgtOaE&list=PLO_fdPEVlfKqMDNmCFzQISI2H_nJcEDJq&index=23)\n",
        "\n"
      ]
    },
    {
      "cell_type": "markdown",
      "metadata": {
        "id": "17UzKOPECNCO"
      },
      "source": [
        "## Vidéos (24 à 26/30):\n",
        "\n",
        "[PRE-PROCESSING](https://www.youtube.com/watch?v=OGWwzm304Xs&list=PLO_fdPEVlfKqMDNmCFzQISI2H_nJcEDJq&index=24)\n",
        "\n",
        "(Bonus) [PIPELINE AVANCÉE](https://www.youtube.com/watch?v=41mnga4ptso&list=PLO_fdPEVlfKqMDNmCFzQISI2H_nJcEDJq&index=25)\n",
        "\n",
        "[IMPUTER : NETTOYAGE DE DONNÉES](https://www.youtube.com/watch?v=QVEJJNsz-eM&list=PLO_fdPEVlfKqMDNmCFzQISI2H_nJcEDJq&index=26)\n",
        "\n",
        "Vous allez tester les différents Scaler sur le dataset des iris.\n",
        "\n",
        "Pour ce faire\n",
        "<ol>\n",
        "<li> Importer le dataset des iris </li>\n",
        "<li> Créez un Train Set et un Test Set avec le Test Set représentant 25% des données et random_State égal à 4 </li>\n",
        "<li> Pour chacun des 3 scalers (StandardScaler(), MinMaxScaler et RobustScaler)</li>\n",
        "<ol type=\"a\">\n",
        "<li>Créez un pipeline avec un PolynomialFeatures et un SGDClassifier (avec un random_state égal à 0 pour le SGDClassifier) </li>\n",
        "<font color='red'><strong>Attention ! Renseignez-vous bien sur l'ordre dans lequel il faut placer le Scaler et le PolynomialFeatures !</strong> </font>\n",
        "<li>Cherchez les meilleurs paramètres à l'aide de GridSearchCV testant 2,3,4 pour le dégré du PolynomialFeatures, et \"l1\", \"l2\" pour la pénalité du SGDClassifier</li>\n",
        "<li>Afficher les meilleurs paramètres trouvé, le meilleur score ainsi que le score sur les données de test </li>\n",
        "</ol>\n",
        "<li>Sur base des résultats affichés au point 3., Quel scaler choisiriez-vous ? Justifiez !!</li>\n",
        "</ol>"
      ]
    },
    {
      "cell_type": "code",
      "metadata": {
        "id": "Ybrn0Ct6d9Ur",
        "colab": {
          "base_uri": "https://localhost:8080/"
        },
        "outputId": "f89357d2-f768-415a-b1a2-95febc6ade49"
      },
      "source": [
        "from sklearn.model_selection import train_test_split\n",
        "from sklearn.linear_model import SGDClassifier\n",
        "from sklearn.model_selection import GridSearchCV\n",
        "from sklearn.preprocessing import StandardScaler, MinMaxScaler, RobustScaler\n",
        "from sklearn.impute import SimpleImputer,KNNImputer\n",
        "from sklearn.preprocessing import PolynomialFeatures\n",
        "from sklearn.pipeline import make_pipeline\n",
        "from sklearn.datasets import load_iris\n",
        "\n",
        "iris = load_iris()\n",
        "\n",
        "X = iris.data\n",
        "y = iris.target\n",
        "\n",
        "X_train, X_test, y_train, y_test = train_test_split(X, y, test_size = 0.25, random_state = 4)\n",
        "\n",
        "params = {\n",
        "    'polynomialfeatures__degree': [2, 3, 4],\n",
        "    'sgdclassifier__penalty': ['l1', 'l2']\n",
        "}\n",
        "\n",
        "# MIN MAX\n",
        "model_min_max = make_pipeline(PolynomialFeatures(), MinMaxScaler(), SGDClassifier(random_state = 0))\n",
        "grid_min_max = GridSearchCV(model_min_max, param_grid = params, cv = 5)\n",
        "grid_min_max.fit(X_train, y_train)\n",
        "print(\"MIN MAX\")\n",
        "print(grid_min_max.best_score_)\n",
        "print(grid_min_max.best_params_)\n",
        "print(grid_min_max.score(X_test, y_test))\n",
        "\n",
        "# STANDARD\n",
        "model_standard = make_pipeline(PolynomialFeatures(), StandardScaler(), SGDClassifier(random_state = 0))\n",
        "grid_standard = GridSearchCV(model_standard, param_grid = params, cv = 5)\n",
        "grid_standard.fit(X_train, y_train)\n",
        "print(\"STANDARD\")\n",
        "print(grid_standard.best_score_)\n",
        "print(grid_standard.best_params_)\n",
        "print(grid_standard.score(X_test, y_test))\n",
        "\n",
        "# ROBUST\n",
        "model_robust = make_pipeline(PolynomialFeatures(), RobustScaler(), SGDClassifier(random_state = 0))\n",
        "grid_robust = GridSearchCV(model_robust, param_grid = params, cv = 5)\n",
        "grid_robust.fit(X_train, y_train)\n",
        "print(\"ROBUST\")\n",
        "print(grid_robust.best_score_)\n",
        "print(grid_robust.best_params_)\n",
        "print(grid_robust.score(X_test, y_test))"
      ],
      "execution_count": 6,
      "outputs": [
        {
          "output_type": "stream",
          "name": "stdout",
          "text": [
            "MIN MAX\n",
            "0.982213438735178\n",
            "{'polynomialfeatures__degree': 4, 'sgdclassifier__penalty': 'l2'}\n",
            "0.9473684210526315\n",
            "STANDARD\n",
            "0.982213438735178\n",
            "{'polynomialfeatures__degree': 4, 'sgdclassifier__penalty': 'l1'}\n",
            "0.9210526315789473\n",
            "ROBUST\n",
            "0.982213438735178\n",
            "{'polynomialfeatures__degree': 3, 'sgdclassifier__penalty': 'l1'}\n",
            "0.9473684210526315\n"
          ]
        }
      ]
    },
    {
      "cell_type": "markdown",
      "metadata": {
        "id": "1xEq3wcYIvfg"
      },
      "source": [
        "Réponse au 4. :\n",
        "\n"
      ]
    },
    {
      "cell_type": "markdown",
      "metadata": {
        "id": "pzqxLKjXOknb"
      },
      "source": [
        "# Partie 2 : Exercices Machine Learning semaine 4"
      ]
    },
    {
      "cell_type": "markdown",
      "metadata": {
        "id": "9aApsbbFQ_eH"
      },
      "source": [
        "## Exercice 1 : Survivant du titanic :\n",
        "\n",
        "<ol>\n",
        "<li> Importez le dataset du titanic à l'aide de seaborn </li>\n",
        "<li> Gardez uniquement les colonnes 'pclass', 'age' et 'sex' comme features et la colonne 'survived' comme target </li>\n",
        "<li> Créez un Train Set et un Test set avec 20% des données pour le test set et un random_state égal à 4</li>\n",
        "<li> Créez un preprocesser qui </li>\n",
        "<ul>\n",
        "<li> pour la colonne 'pclass' remplace les valeurs manquantes en utilisant un KNNImputer() considérant les 2 plus proches voisins pour ensuite appliquer un OneHotEncoder </li>\n",
        "<li> pour la colonne 'age' remplace les valeurs manquantes par la moyenne et ensuite applique ensuite un RobustScaler </li>\n",
        "<li> pour la colonne 'sex' remplace les valeurs manquantes par la valeur la plus fréquente pour ensuite appliquer un OneHotEncoder</li>\n",
        "</ul>\n",
        "(Astuce : utilisez make_column_transformer)\n",
        "<li> Obtenez votre modèle en faisant un pipeline constitué du preprocesser suivi d'un SGDClassifier avec un random_state égal à 4 </li>\n",
        "<li> Cherchez les meilleurs paramètres du SGDClassifier à l'aide d'un GridSearchCV testant 'l1' et 'l2' comme pénalité. </li>\n",
        "<li> Afficher le meilleur paramètre, le meilleur score et le score obtenu sur les données de test.  </li>\n",
        "<li> Essayer d'améliorer le score obtenu en 7., en essayant d'autre encoder, scaler, classifier, ...\n",
        "</ol>"
      ]
    },
    {
      "cell_type": "code",
      "metadata": {
        "id": "W3GdotomCEON",
        "colab": {
          "base_uri": "https://localhost:8080/"
        },
        "outputId": "67654a7c-f92c-4425-8245-fd13ac9e2615"
      },
      "source": [
        "import seaborn as sns\n",
        "import pandas as pd\n",
        "import numpy as np\n",
        "import matplotlib.pyplot as plt\n",
        "\n",
        "from sklearn.pipeline import make_pipeline\n",
        "from sklearn.linear_model import SGDClassifier\n",
        "from sklearn.preprocessing import StandardScaler,OneHotEncoder,RobustScaler\n",
        "from sklearn.preprocessing import PolynomialFeatures\n",
        "from sklearn.model_selection import train_test_split\n",
        "from sklearn.model_selection import GridSearchCV\n",
        "from sklearn.compose import make_column_transformer\n",
        "\n",
        "titanic = sns.load_dataset('titanic')\n",
        "titanic = titanic[['survived', 'pclass', 'sex', 'age']]\n",
        "titanic.dropna(axis = 0, inplace = True)\n",
        "\n",
        "titanic['sex'].replace(['female', 'male'], [0, 1], inplace = True)\n",
        "\n",
        "y = titanic['survived']\n",
        "X = titanic.drop('survived', axis = 1)\n",
        "\n",
        "X_train, X_test, y_train, y_test = train_test_split(X, y, test_size = 0.25, random_state = 4)\n",
        "\n",
        "ct = make_column_transformer(\n",
        "    (KNNImputer(n_neighbors = 2), ['pclass']),\n",
        "    (OneHotEncoder(), ['pclass']),\n",
        "    (SimpleImputer(missing_values = np.nan, strategy = 'mean'), ['age']),\n",
        "    (RobustScaler(), ['age']),\n",
        "    (SimpleImputer(missing_values = np.nan, strategy = 'most_frequent'), ['sex']),\n",
        "    (OneHotEncoder(), ['sex'])\n",
        ")\n",
        "\n",
        "model = make_pipeline(ct, SGDClassifier(random_state = 4))\n",
        "\n",
        "params = {\n",
        "    'sgdclassifier__penalty': ['l1', 'l2']\n",
        "}\n",
        "\n",
        "grid = GridSearchCV(model, param_grid = params, cv = 5)\n",
        "\n",
        "grid.fit(X_train, y_train)\n",
        "\n",
        "print(grid.best_params_)\n",
        "print(grid.best_score_)\n",
        "print(grid.score(X_test, y_test))"
      ],
      "execution_count": 34,
      "outputs": [
        {
          "output_type": "stream",
          "name": "stdout",
          "text": [
            "{'sgdclassifier__penalty': 'l1'}\n",
            "0.7906542056074766\n",
            "0.7486033519553073\n"
          ]
        }
      ]
    },
    {
      "cell_type": "markdown",
      "source": [
        "## Exercice 2 : Emprunteurs à risques\n",
        "Une banque désire un modèle permettant de déterminer si un client emprunteur est à risque ou pas.\n",
        "<ol>\n",
        "<li> Importez le dataset customer_data.csv dans lequel la target est la colonne \"label\".</li>\n",
        "<li> Retirer la colonne \"id\".  </li>\n",
        "<li> Déterminez le pourcentage de valeurs manquantes dans chaque colonne. </li>\n",
        "<li> Sur base du résultat du point précédent, traitez les valeurs manquantes. Justifier le choix que vous avez fait pour ces valeurs :\n",
        "\n",
        "<strong> Justification : </strong>  </li>\n",
        "<li> Dessinez la heatmap de la matrice de corrélation des features et de la target en affichant la valeur des coefficents de corrélation. </li>\n",
        "<li> Sur base de la heatmap, déterminer d'une part si la target est corrélée linéairement avec une ou plusieurs features et d'autre part les features les plus corrélées linéairement entre elles.\n",
        "\n",
        "<strong> Réponse : <strong>\n",
        "</ol>"
      ],
      "metadata": {
        "id": "u4iAMuWV0md3"
      }
    },
    {
      "cell_type": "code",
      "source": [
        "import seaborn as sns\n",
        "import pandas as pd\n",
        "\n",
        "data = pd.read_csv(\"customer_data.csv\")\n",
        "\n",
        "data = data.drop(['id'], axis = 1)\n",
        "\n",
        "y = data['label']\n",
        "X = data.drop(['label'], axis = 1)\n",
        "\n",
        "for i in range(11):\n",
        "  print(X['fea_{}'.format(i + 1)].isna().sum())\n",
        "\n",
        "X = X.drop(['fea_2'], axis = 1)\n",
        "\n",
        "sns.heatmap(X)"
      ],
      "metadata": {
        "id": "UVPeQCl70kmu",
        "colab": {
          "base_uri": "https://localhost:8080/",
          "height": 692
        },
        "outputId": "c65bf288-7898-442e-91c3-773081c7680c"
      },
      "execution_count": 56,
      "outputs": [
        {
          "output_type": "stream",
          "name": "stdout",
          "text": [
            "0\n",
            "149\n",
            "0\n",
            "0\n",
            "0\n",
            "0\n",
            "0\n",
            "0\n",
            "0\n",
            "0\n",
            "0\n"
          ]
        },
        {
          "output_type": "execute_result",
          "data": {
            "text/plain": [
              "<Axes: >"
            ]
          },
          "metadata": {},
          "execution_count": 56
        },
        {
          "output_type": "display_data",
          "data": {
            "text/plain": [
              "<Figure size 640x480 with 2 Axes>"
            ],
            "image/png": "[encoded data removed]"
          },
          "metadata": {}
        }
      ]
    }
  ]
}