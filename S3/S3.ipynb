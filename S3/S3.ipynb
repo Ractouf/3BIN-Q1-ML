{
  "nbformat": 4,
  "nbformat_minor": 0,
  "metadata": {
    "colab": {
      "provenance": []
    },
    "kernelspec": {
      "name": "python3",
      "display_name": "Python 3"
    }
  },
  "cells": [
    {
      "cell_type": "markdown",
      "metadata": {
        "id": "GwNPr1HKgrmH"
      },
      "source": [
        "#BIN3100 ML S3\n",
        "\n",
        "## Théorie: Vidéos\n",
        "\n",
        "Dans cette leçon nous apprendrons à construire et valider un premier modèle de Machine Learning\n",
        "Il y a trois vidéos à regarder obligatoirement. Ces vidéos durent un total d'un peu moins d'une heure. Je vous suggère pour en tirer un maximum d'ouvrir un colab pour écrire et exécuter de votre côté le code que le YouTuber écrit.\n",
        "\n",
        "1. [PYTHON SKLEARN: KNN, LinearRegression et SUPERVISED LEARNING](https://www.youtube.com/watch?v=P6kSc3qVph0&list=PLO_fdPEVlfKqMDNmCFzQISI2H_nJcEDJq&index=20)\n",
        "2. [PYTHON SKLEARN - MODEL SELECTION : Train_test_split, Cross Validation, GridSearchCV](https://www.youtube.com/watch?v=w_bLGK4Pteo&list=PLO_fdPEVlfKqMDNmCFzQISI2H_nJcEDJq&index=21)\n",
        "3. [CROSS-VALIDATION SKLEARN PYTHON](https://www.youtube.com/watch?v=VoyMOVfCSfc&list=PLO_fdPEVlfKqMDNmCFzQISI2H_nJcEDJq&index=22)\n",
        "\n",
        "La vidéo suivante est optionnelle.\n",
        "4. [MÉTRIQUES de RÉGRESSIONS en DATA SCIENCE](https://www.youtube.com/watch?v=VoyMOVfCSfc&list=PLO_fdPEVlfKqMDNmCFzQISI2H_nJcEDJq&index=23)"
      ]
    },
    {
      "cell_type": "markdown",
      "metadata": {
        "id": "0kaolZSOeOYn"
      },
      "source": [
        "##  Une étude de cas: détection du cancer du sein"
      ]
    },
    {
      "cell_type": "code",
      "source": [
        "#import du data wine recognition depuis sklearn\n",
        "from sklearn import datasets\n",
        "data = datasets.load_breast_cancer()\n",
        "print(data.DESCR)"
      ],
      "metadata": {
        "id": "cxbLi3mq4cwe",
        "colab": {
          "base_uri": "https://localhost:8080/"
        },
        "outputId": "afd776e9-a225-4643-988f-b4b300ead153"
      },
      "execution_count": null,
      "outputs": [
        {
          "output_type": "stream",
          "name": "stdout",
          "text": [
            ".. _breast_cancer_dataset:\n",
            "\n",
            "Breast cancer wisconsin (diagnostic) dataset\n",
            "--------------------------------------------\n",
            "\n",
            "**Data Set Characteristics:**\n",
            "\n",
            "    :Number of Instances: 569\n",
            "\n",
            "    :Number of Attributes: 30 numeric, predictive attributes and the class\n",
            "\n",
            "    :Attribute Information:\n",
            "        - radius (mean of distances from center to points on the perimeter)\n",
            "        - texture (standard deviation of gray-scale values)\n",
            "        - perimeter\n",
            "        - area\n",
            "        - smoothness (local variation in radius lengths)\n",
            "        - compactness (perimeter^2 / area - 1.0)\n",
            "        - concavity (severity of concave portions of the contour)\n",
            "        - concave points (number of concave portions of the contour)\n",
            "        - symmetry\n",
            "        - fractal dimension (\"coastline approximation\" - 1)\n",
            "\n",
            "        The mean, standard error, and \"worst\" or largest (mean of the three\n",
            "        worst/largest values) of these features were computed for each image,\n",
            "        resulting in 30 features.  For instance, field 0 is Mean Radius, field\n",
            "        10 is Radius SE, field 20 is Worst Radius.\n",
            "\n",
            "        - class:\n",
            "                - WDBC-Malignant\n",
            "                - WDBC-Benign\n",
            "\n",
            "    :Summary Statistics:\n",
            "\n",
            "    ===================================== ====== ======\n",
            "                                           Min    Max\n",
            "    ===================================== ====== ======\n",
            "    radius (mean):                        6.981  28.11\n",
            "    texture (mean):                       9.71   39.28\n",
            "    perimeter (mean):                     43.79  188.5\n",
            "    area (mean):                          143.5  2501.0\n",
            "    smoothness (mean):                    0.053  0.163\n",
            "    compactness (mean):                   0.019  0.345\n",
            "    concavity (mean):                     0.0    0.427\n",
            "    concave points (mean):                0.0    0.201\n",
            "    symmetry (mean):                      0.106  0.304\n",
            "    fractal dimension (mean):             0.05   0.097\n",
            "    radius (standard error):              0.112  2.873\n",
            "    texture (standard error):             0.36   4.885\n",
            "    perimeter (standard error):           0.757  21.98\n",
            "    area (standard error):                6.802  542.2\n",
            "    smoothness (standard error):          0.002  0.031\n",
            "    compactness (standard error):         0.002  0.135\n",
            "    concavity (standard error):           0.0    0.396\n",
            "    concave points (standard error):      0.0    0.053\n",
            "    symmetry (standard error):            0.008  0.079\n",
            "    fractal dimension (standard error):   0.001  0.03\n",
            "    radius (worst):                       7.93   36.04\n",
            "    texture (worst):                      12.02  49.54\n",
            "    perimeter (worst):                    50.41  251.2\n",
            "    area (worst):                         185.2  4254.0\n",
            "    smoothness (worst):                   0.071  0.223\n",
            "    compactness (worst):                  0.027  1.058\n",
            "    concavity (worst):                    0.0    1.252\n",
            "    concave points (worst):               0.0    0.291\n",
            "    symmetry (worst):                     0.156  0.664\n",
            "    fractal dimension (worst):            0.055  0.208\n",
            "    ===================================== ====== ======\n",
            "\n",
            "    :Missing Attribute Values: None\n",
            "\n",
            "    :Class Distribution: 212 - Malignant, 357 - Benign\n",
            "\n",
            "    :Creator:  Dr. William H. Wolberg, W. Nick Street, Olvi L. Mangasarian\n",
            "\n",
            "    :Donor: Nick Street\n",
            "\n",
            "    :Date: November, 1995\n",
            "\n",
            "This is a copy of UCI ML Breast Cancer Wisconsin (Diagnostic) datasets.\n",
            "https://goo.gl/U2Uwz2\n",
            "\n",
            "Features are computed from a digitized image of a fine needle\n",
            "aspirate (FNA) of a breast mass.  They describe\n",
            "characteristics of the cell nuclei present in the image.\n",
            "\n",
            "Separating plane described above was obtained using\n",
            "Multisurface Method-Tree (MSM-T) [K. P. Bennett, \"Decision Tree\n",
            "Construction Via Linear Programming.\" Proceedings of the 4th\n",
            "Midwest Artificial Intelligence and Cognitive Science Society,\n",
            "pp. 97-101, 1992], a classification method which uses linear\n",
            "programming to construct a decision tree.  Relevant features\n",
            "were selected using an exhaustive search in the space of 1-4\n",
            "features and 1-3 separating planes.\n",
            "\n",
            "The actual linear program used to obtain the separating plane\n",
            "in the 3-dimensional space is that described in:\n",
            "[K. P. Bennett and O. L. Mangasarian: \"Robust Linear\n",
            "Programming Discrimination of Two Linearly Inseparable Sets\",\n",
            "Optimization Methods and Software 1, 1992, 23-34].\n",
            "\n",
            "This database is also available through the UW CS ftp server:\n",
            "\n",
            "ftp ftp.cs.wisc.edu\n",
            "cd math-prog/cpo-dataset/machine-learn/WDBC/\n",
            "\n",
            ".. topic:: References\n",
            "\n",
            "   - W.N. Street, W.H. Wolberg and O.L. Mangasarian. Nuclear feature extraction \n",
            "     for breast tumor diagnosis. IS&T/SPIE 1993 International Symposium on \n",
            "     Electronic Imaging: Science and Technology, volume 1905, pages 861-870,\n",
            "     San Jose, CA, 1993.\n",
            "   - O.L. Mangasarian, W.N. Street and W.H. Wolberg. Breast cancer diagnosis and \n",
            "     prognosis via linear programming. Operations Research, 43(4), pages 570-577, \n",
            "     July-August 1995.\n",
            "   - W.H. Wolberg, W.N. Street, and O.L. Mangasarian. Machine learning techniques\n",
            "     to diagnose breast cancer from fine-needle aspirates. Cancer Letters 77 (1994) \n",
            "     163-171.\n"
          ]
        }
      ]
    },
    {
      "cell_type": "markdown",
      "metadata": {
        "id": "t35vsVZdhtVp"
      },
      "source": [
        "##Quel objectif initial vous êtes-vous fixé?"
      ]
    },
    {
      "cell_type": "markdown",
      "source": [],
      "metadata": {
        "id": "tV5MPxhU4lCs"
      }
    },
    {
      "cell_type": "markdown",
      "metadata": {
        "id": "YvsHREABh7ty"
      },
      "source": [
        "<font color='red'> Répondez à cette question ici\n",
        "\n",
        "---\n",
        "\n",
        "\n"
      ]
    },
    {
      "cell_type": "markdown",
      "metadata": {
        "id": "C6r0_Cediieg"
      },
      "source": [
        "##Exploration des données"
      ]
    },
    {
      "cell_type": "markdown",
      "metadata": {
        "id": "OjWr5EL5j0Am"
      },
      "source": [
        "Exploratory Data Analysis\n",
        "\n",
        "Objectif: comprendre au maximum les données dont on dispose pour définir une stratégie de modélisation.\n",
        "\n",
        "\n",
        "1.   Analyse de la forme:\n",
        "\n",
        "  a. Identification de la target: <font color='red'> Quel est votre target? data.target</font>\n",
        "\n",
        "  b. Nombre des lignes et de colonnes: <font color='red'> Quelle est la forme de votre dataset?</font>\n",
        "\n",
        "  c. Types de variables: <font color='red'> Quelles sont les types de vos données? des int</font>\n",
        "\n",
        "2.   Analyse du fond:\n",
        "\n",
        "  a. Visualisation de la target <font color='red'>\n",
        "\n",
        "\tb. Compréhension des différentes variables\n",
        "\n"
      ]
    },
    {
      "cell_type": "markdown",
      "metadata": {
        "id": "S9QVj2GXpfC3"
      },
      "source": [
        "<font color='red'>Analyse de la forme: Répondez-ici </font>\n",
        "\n"
      ]
    },
    {
      "cell_type": "markdown",
      "metadata": {
        "id": "j5ih2laAlov0"
      },
      "source": [
        "\n",
        "<font color='red'> Analyse de fond Répondez-ici </font>"
      ]
    },
    {
      "cell_type": "markdown",
      "metadata": {
        "id": "bFk-lObYVBK7"
      },
      "source": [
        "##Construisez votre modèle ici\n",
        "\n",
        "Utilisez un knn pour pour pour créer un premier modèle.\n",
        "\n",
        "Essayez de produire du code le plus indépendant possible du modèle utilisé."
      ]
    },
    {
      "cell_type": "code",
      "metadata": {
        "id": "i91Ee2Arvo20",
        "colab": {
          "base_uri": "https://localhost:8080/",
          "height": 75
        },
        "outputId": "7969352b-f08b-4e4d-e707-6a20be4f9e14"
      },
      "source": [
        "#import du data wine recognition depuis sklearn\n",
        "from sklearn import datasets\n",
        "from sklearn.neighbors import KNeighborsClassifier\n",
        "from sklearn.model_selection import train_test_split\n",
        "\n",
        "data = datasets.load_breast_cancer()\n",
        "\n",
        "X = data.data\n",
        "y = data.target\n",
        "\n",
        "X_train, X_test, y_train, y_test = train_test_split(X, y, test_size = 0.2)\n",
        "\n",
        "model = KNeighborsClassifier()\n",
        "\n",
        "model.fit(X_train, y_train)"
      ],
      "execution_count": 61,
      "outputs": [
        {
          "output_type": "execute_result",
          "data": {
            "text/plain": [
              "KNeighborsClassifier()"
            ],
            "text/html": [
              "<style>#sk-container-id-10 {color: black;background-color: white;}#sk-container-id-10 pre{padding: 0;}#sk-container-id-10 div.sk-toggleable {background-color: white;}#sk-container-id-10 label.sk-toggleable__label {cursor: pointer;display: block;width: 100%;margin-bottom: 0;padding: 0.3em;box-sizing: border-box;text-align: center;}#sk-container-id-10 label.sk-toggleable__label-arrow:before {content: \"▸\";float: left;margin-right: 0.25em;color: #696969;}#sk-container-id-10 label.sk-toggleable__label-arrow:hover:before {color: black;}#sk-container-id-10 div.sk-estimator:hover label.sk-toggleable__label-arrow:before {color: black;}#sk-container-id-10 div.sk-toggleable__content {max-height: 0;max-width: 0;overflow: hidden;text-align: left;background-color: #f0f8ff;}#sk-container-id-10 div.sk-toggleable__content pre {margin: 0.2em;color: black;border-radius: 0.25em;background-color: #f0f8ff;}#sk-container-id-10 input.sk-toggleable__control:checked~div.sk-toggleable__content {max-height: 200px;max-width: 100%;overflow: auto;}#sk-container-id-10 input.sk-toggleable__control:checked~label.sk-toggleable__label-arrow:before {content: \"▾\";}#sk-container-id-10 div.sk-estimator input.sk-toggleable__control:checked~label.sk-toggleable__label {background-color: #d4ebff;}#sk-container-id-10 div.sk-label input.sk-toggleable__control:checked~label.sk-toggleable__label {background-color: #d4ebff;}#sk-container-id-10 input.sk-hidden--visually {border: 0;clip: rect(1px 1px 1px 1px);clip: rect(1px, 1px, 1px, 1px);height: 1px;margin: -1px;overflow: hidden;padding: 0;position: absolute;width: 1px;}#sk-container-id-10 div.sk-estimator {font-family: monospace;background-color: #f0f8ff;border: 1px dotted black;border-radius: 0.25em;box-sizing: border-box;margin-bottom: 0.5em;}#sk-container-id-10 div.sk-estimator:hover {background-color: #d4ebff;}#sk-container-id-10 div.sk-parallel-item::after {content: \"\";width: 100%;border-bottom: 1px solid gray;flex-grow: 1;}#sk-container-id-10 div.sk-label:hover label.sk-toggleable__label {background-color: #d4ebff;}#sk-container-id-10 div.sk-serial::before {content: \"\";position: absolute;border-left: 1px solid gray;box-sizing: border-box;top: 0;bottom: 0;left: 50%;z-index: 0;}#sk-container-id-10 div.sk-serial {display: flex;flex-direction: column;align-items: center;background-color: white;padding-right: 0.2em;padding-left: 0.2em;position: relative;}#sk-container-id-10 div.sk-item {position: relative;z-index: 1;}#sk-container-id-10 div.sk-parallel {display: flex;align-items: stretch;justify-content: center;background-color: white;position: relative;}#sk-container-id-10 div.sk-item::before, #sk-container-id-10 div.sk-parallel-item::before {content: \"\";position: absolute;border-left: 1px solid gray;box-sizing: border-box;top: 0;bottom: 0;left: 50%;z-index: -1;}#sk-container-id-10 div.sk-parallel-item {display: flex;flex-direction: column;z-index: 1;position: relative;background-color: white;}#sk-container-id-10 div.sk-parallel-item:first-child::after {align-self: flex-end;width: 50%;}#sk-container-id-10 div.sk-parallel-item:last-child::after {align-self: flex-start;width: 50%;}#sk-container-id-10 div.sk-parallel-item:only-child::after {width: 0;}#sk-container-id-10 div.sk-dashed-wrapped {border: 1px dashed gray;margin: 0 0.4em 0.5em 0.4em;box-sizing: border-box;padding-bottom: 0.4em;background-color: white;}#sk-container-id-10 div.sk-label label {font-family: monospace;font-weight: bold;display: inline-block;line-height: 1.2em;}#sk-container-id-10 div.sk-label-container {text-align: center;}#sk-container-id-10 div.sk-container {/* jupyter's `normalize.less` sets `[hidden] { display: none; }` but bootstrap.min.css set `[hidden] { display: none !important; }` so we also need the `!important` here to be able to override the default hidden behavior on the sphinx rendered scikit-learn.org. See: https://github.com/scikit-learn/scikit-learn/issues/21755 */display: inline-block !important;position: relative;}#sk-container-id-10 div.sk-text-repr-fallback {display: none;}</style><div id=\"sk-container-id-10\" class=\"sk-top-container\"><div class=\"sk-text-repr-fallback\"><pre>KNeighborsClassifier()</pre><b>In a Jupyter environment, please rerun this cell to show the HTML representation or trust the notebook. <br />On GitHub, the HTML representation is unable to render, please try loading this page with nbviewer.org.</b></div><div class=\"sk-container\" hidden><div class=\"sk-item\"><div class=\"sk-estimator sk-toggleable\"><input class=\"sk-toggleable__control sk-hidden--visually\" id=\"sk-estimator-id-10\" type=\"checkbox\" checked><label for=\"sk-estimator-id-10\" class=\"sk-toggleable__label sk-toggleable__label-arrow\">KNeighborsClassifier</label><div class=\"sk-toggleable__content\"><pre>KNeighborsClassifier()</pre></div></div></div></div></div>"
            ]
          },
          "metadata": {},
          "execution_count": 61
        }
      ]
    },
    {
      "cell_type": "markdown",
      "metadata": {
        "id": "y03s4lHNfIfB"
      },
      "source": [
        "##Testez votre modèle ici\n",
        "\n",
        "Mesurez la performance du modèle.\n",
        "\n"
      ]
    },
    {
      "cell_type": "code",
      "metadata": {
        "id": "7RIQuQ8_fPfD",
        "colab": {
          "base_uri": "https://localhost:8080/"
        },
        "outputId": "585f2d96-0b7c-4da4-e7cc-e8cafd03f77a"
      },
      "source": [
        "model.score(X_test, y_test)"
      ],
      "execution_count": 62,
      "outputs": [
        {
          "output_type": "execute_result",
          "data": {
            "text/plain": [
              "0.9473684210526315"
            ]
          },
          "metadata": {},
          "execution_count": 62
        }
      ]
    },
    {
      "cell_type": "markdown",
      "metadata": {
        "id": "STW0Nb-3kNIa"
      },
      "source": [
        "## La meilleure valeur de voisins\n",
        "\n",
        "Écrivez un programme qui permet de trouver la meilleure valeur de voisin n_neighbors possible pour le modele de KNeighborsClassifier."
      ]
    },
    {
      "cell_type": "code",
      "metadata": {
        "id": "TGJJsq1SkmWt",
        "colab": {
          "base_uri": "https://localhost:8080/"
        },
        "outputId": "3adeda17-0e39-4761-c81d-5d49cb2a223e"
      },
      "source": [
        "from sklearn.neighbors import KNeighborsClassifier\n",
        "from sklearn.model_selection import GridSearchCV\n",
        "\n",
        "param_grid = {'n_neighbors': np.arange(1, 20)}\n",
        "grid = GridSearchCV(KNeighborsClassifier(), param_grid, cv = 5)\n",
        "\n",
        "model = grid.fit(X_train, y_train)\n",
        "\n",
        "print(\"best score\", grid.best_score_)\n",
        "print(\"best params\", grid.best_params_)\n"
      ],
      "execution_count": 63,
      "outputs": [
        {
          "output_type": "stream",
          "name": "stdout",
          "text": [
            "best score 0.9274725274725275\n",
            "best params {'n_neighbors': 3}\n"
          ]
        }
      ]
    },
    {
      "cell_type": "markdown",
      "source": [
        "## Learning curve\n",
        "\n",
        "A l'aide de la learning curve, essayez de voir à partir de combien d'exemple le modèle n'améliore plus vraiment ses performances."
      ],
      "metadata": {
        "id": "gzv9VciiHxx_"
      }
    },
    {
      "cell_type": "code",
      "source": [
        "from sklearn.model_selection import learning_curve\n",
        "\n",
        "N, train_score, val_score = learning_curve(model, X_train, y_train, train_sizes = np.linspace(0.1, 1.0, 10), cv = 5)\n",
        "\n",
        "plt.plot(N, train_score.mean(axis = 1), label = 'train')\n",
        "plt.plot(N, val_score.mean(axis = 1), label = 'val')"
      ],
      "metadata": {
        "id": "mb7jhEuWIDna",
        "colab": {
          "base_uri": "https://localhost:8080/",
          "height": 447
        },
        "outputId": "41db2d5e-378b-417a-b501-361d12ba6d03"
      },
      "execution_count": 64,
      "outputs": [
        {
          "output_type": "execute_result",
          "data": {
            "text/plain": [
              "[<matplotlib.lines.Line2D at 0x79339ec60730>]"
            ]
          },
          "metadata": {},
          "execution_count": 64
        },
        {
          "output_type": "display_data",
          "data": {
            "text/plain": [
              "<Figure size 640x480 with 1 Axes>"
            ],
            "image/png": "[encoded data removed]"
          },
          "metadata": {}
        }
      ]
    },
    {
      "cell_type": "markdown",
      "source": [
        "## Decision Tree\n",
        "Faites un nouveau modèle à l'aide d'un arbre de décision et comparez les performances avec le knn."
      ],
      "metadata": {
        "id": "g-5H2lZnIEG0"
      }
    },
    {
      "cell_type": "code",
      "source": [
        "from sklearn.tree import DecisionTreeClassifier\n",
        "from sklearn.neighbors import KNeighborsClassifier\n",
        "from sklearn.model_selection import cross_val_score, GridSearchCV\n",
        "\n",
        "#GRID POUR NEIGHBORS\n",
        "param_grid_neighbors = {'n_neighbors': np.arange(1, 20)}\n",
        "grid_neighbors = GridSearchCV(KNeighborsClassifier(), param_grid_neighbors, cv = 5)\n",
        "\n",
        "grid_neighbors.fit(X_train, y_train)\n",
        "\n",
        "neighbors_model = grid_neighbors.best_estimator_\n",
        "\n",
        "print(\"best score\", grid_neighbors.best_score_)\n",
        "print(\"best params\", grid_neighbors.best_params_)\n",
        "print()\n",
        "\n",
        "#GRID POUR TREE\n",
        "param_grid_tree = {'max_depth': np.arange(1, 10)}\n",
        "grid_tree = GridSearchCV(DecisionTreeClassifier(), param_grid_tree, cv = 5)\n",
        "\n",
        "grid_tree.fit(X_train, y_train)\n",
        "\n",
        "tree_model = grid_tree.best_estimator_\n",
        "\n",
        "print(\"best score\", grid_tree.best_score_)\n",
        "print(\"best params\", grid_tree.best_params_)\n",
        "print()\n",
        "\n",
        "#CROSS VAL SCORE\n",
        "print(\"Neighbors train\", cross_val_score(neighbors_model, X_train, y_train, cv = 5, scoring = 'accuracy').mean())\n",
        "print(\"Neighbors test\", cross_val_score(neighbors_model, X_test, y_test, cv = 5, scoring = 'accuracy').mean())\n",
        "\n",
        "print()\n",
        "\n",
        "print(\"Decision tree train\", cross_val_score(tree_model, X_train, y_train, cv = 5, scoring = 'accuracy').mean())\n",
        "print(\"Decision tree test\", cross_val_score(tree_model, X_test, y_test, cv = 5, scoring = 'accuracy').mean())"
      ],
      "metadata": {
        "id": "Uf1h1PwJrZxD",
        "colab": {
          "base_uri": "https://localhost:8080/"
        },
        "outputId": "c26b552f-a190-43ac-d36f-8e014456e38c"
      },
      "execution_count": 68,
      "outputs": [
        {
          "output_type": "stream",
          "name": "stdout",
          "text": [
            "best score 0.9274725274725275\n",
            "best params {'n_neighbors': 3}\n",
            "\n",
            "best score 0.9340659340659341\n",
            "best params {'max_depth': 2}\n",
            "\n",
            "Neighbors train 0.9274725274725275\n",
            "Neighbors test 0.9304347826086957\n",
            "\n",
            "Decision tree train 0.9340659340659341\n",
            "Decision tree test 0.8766798418972332\n"
          ]
        }
      ]
    },
    {
      "cell_type": "code",
      "source": [
        "import numpy as np\n",
        "from sklearn.preprocessing import LabelEncoder, LabelBinarizer\n",
        "\n",
        "# TEST DATA\n",
        "y = np.array(['crab', 'armadillo', 'penguin', 'armadillo'])\n",
        "\n",
        "# ENCODER ORDINAL VARIABLE Y\n",
        "encoder = LabelEncoder()\n",
        "print(encoder.fit_transform(y))\n",
        "print(encoder.inverse_transform([0]))\n",
        "\n",
        "# ENCODER ONE-HOT VARIABLE Y\n",
        "LabelBinarizer(sparse_output = True).fit_transform(y)"
      ],
      "metadata": {
        "colab": {
          "base_uri": "https://localhost:8080/"
        },
        "id": "gztrLQ3QTcf9",
        "outputId": "d0e0d285-23fa-4598-a7da-c92fa59fcebb"
      },
      "execution_count": 25,
      "outputs": [
        {
          "output_type": "stream",
          "name": "stdout",
          "text": [
            "[1 0 2 0]\n",
            "['armadillo']\n"
          ]
        },
        {
          "output_type": "execute_result",
          "data": {
            "text/plain": [
              "<4x3 sparse matrix of type '<class 'numpy.int64'>'\n",
              "\twith 4 stored elements in Compressed Sparse Row format>"
            ]
          },
          "metadata": {},
          "execution_count": 25
        }
      ]
    },
    {
      "cell_type": "code",
      "source": [
        "import numpy as np\n",
        "from sklearn.preprocessing import OrdinalEncoder, OneHotEncoder\n",
        "\n",
        "# TEST DATA\n",
        "X = np.array([['Crab', 'Reach'],\n",
        "              ['Armadillo', 'Dog armor'],\n",
        "              ['Penguin', 'Boat'],\n",
        "              ['Penguin', 'Boat']])\n",
        "\n",
        "# ENCODER ORDINAL VARIABLE X\n",
        "print(OrdinalEncoder().fit_transform(X))\n",
        "\n",
        "# ENCODER ONE-HOT VARIABLE X\n",
        "OneHotEncoder().fit_transform(X)"
      ],
      "metadata": {
        "colab": {
          "base_uri": "https://localhost:8080/"
        },
        "id": "9SwVS2B4V0-_",
        "outputId": "c5838b98-d853-4cb5-b9b3-667bbf5320cb"
      },
      "execution_count": 24,
      "outputs": [
        {
          "output_type": "stream",
          "name": "stdout",
          "text": [
            "[[1. 2.]\n",
            " [0. 1.]\n",
            " [2. 0.]\n",
            " [2. 0.]]\n"
          ]
        },
        {
          "output_type": "execute_result",
          "data": {
            "text/plain": [
              "<4x6 sparse matrix of type '<class 'numpy.float64'>'\n",
              "\twith 8 stored elements in Compressed Sparse Row format>"
            ]
          },
          "metadata": {},
          "execution_count": 24
        }
      ]
    },
    {
      "cell_type": "code",
      "source": [
        "from sklearn.preprocessing import MinMaxScaler, StandardScaler, RobustScaler\n",
        "from sklearn.datasets import load_iris\n",
        "import matplotlib.pyplot as plt\n",
        "\n",
        "iris = load_iris()\n",
        "X = iris.data\n",
        "\n",
        "# MIN MAX\n",
        "X_minmax = MinMaxScaler().fit_transform(X)\n",
        "\n",
        "# STANDARDISER\n",
        "X_std = StandardScaler().fit_transform(X)\n",
        "\n",
        "# ROBUST SCALER\n",
        "x_robust = RobustScaler().fit_transform(X)\n",
        "\n",
        "plt.scatter(X[:, 2], X[:, 3], label = 'original')\n",
        "plt.scatter(X_minmax[:, 2], X_minmax[:, 3], label = 'min max')\n",
        "plt.scatter(X_std[:, 2], X_std[:, 3], label = 'standardisé')\n",
        "plt.scatter(x_robust[:, 2], x_robust[:, 3], label = 'robust')\n",
        "\n",
        "plt.legend()\n",
        "plt.show()"
      ],
      "metadata": {
        "colab": {
          "base_uri": "https://localhost:8080/",
          "height": 430
        },
        "id": "0YoQo_gqWVX8",
        "outputId": "c8b2a68c-cde0-41a5-8ebd-8122e79a708e"
      },
      "execution_count": 107,
      "outputs": [
        {
          "output_type": "display_data",
          "data": {
            "text/plain": [
              "<Figure size 640x480 with 1 Axes>"
            ],
            "image/png": "[encoded data removed]"
          },
          "metadata": {}
        }
      ]
    },
    {
      "cell_type": "code",
      "source": [
        "import numpy as np\n",
        "from sklearn.preprocessing import Binarizer, KBinsDiscretizer\n",
        "\n",
        "X = np.linspace(0, 5, 10).reshape((10, 1))\n",
        "\n",
        "print(X)\n",
        "print()\n",
        "\n",
        "bin = Binarizer(threshold = 3).fit_transform(X)\n",
        "\n",
        "print(bin)\n",
        "\n",
        "KBinsDiscretizer(n_bins = 6).fit_transform(X).toarray()"
      ],
      "metadata": {
        "colab": {
          "base_uri": "https://localhost:8080/"
        },
        "id": "Di9tJYIvor2o",
        "outputId": "7e4836aa-e40a-46fd-c493-99a08b2eac31"
      },
      "execution_count": 112,
      "outputs": [
        {
          "output_type": "stream",
          "name": "stdout",
          "text": [
            "[[0.        ]\n",
            " [0.55555556]\n",
            " [1.11111111]\n",
            " [1.66666667]\n",
            " [2.22222222]\n",
            " [2.77777778]\n",
            " [3.33333333]\n",
            " [3.88888889]\n",
            " [4.44444444]\n",
            " [5.        ]]\n",
            "\n",
            "[[0.]\n",
            " [0.]\n",
            " [0.]\n",
            " [0.]\n",
            " [0.]\n",
            " [0.]\n",
            " [1.]\n",
            " [1.]\n",
            " [1.]\n",
            " [1.]]\n"
          ]
        },
        {
          "output_type": "execute_result",
          "data": {
            "text/plain": [
              "array([[1., 0., 0., 0., 0., 0.],\n",
              "       [1., 0., 0., 0., 0., 0.],\n",
              "       [0., 1., 0., 0., 0., 0.],\n",
              "       [0., 1., 0., 0., 0., 0.],\n",
              "       [0., 0., 1., 0., 0., 0.],\n",
              "       [0., 0., 0., 1., 0., 0.],\n",
              "       [0., 0., 0., 1., 0., 0.],\n",
              "       [0., 0., 0., 0., 1., 0.],\n",
              "       [0., 0., 0., 0., 0., 1.],\n",
              "       [0., 0., 0., 0., 0., 1.]])"
            ]
          },
          "metadata": {},
          "execution_count": 112
        }
      ]
    },
    {
      "cell_type": "code",
      "source": [
        "from sklearn.datasets import load_iris\n",
        "from sklearn.model_selection import train_test_split\n",
        "from sklearn.preprocessing import StandardScaler\n",
        "from sklearn.linear_model import SGDClassifier\n",
        "from sklearn.pipeline import make_pipeline\n",
        "\n",
        "X = iris.data\n",
        "y = iris.target\n",
        "\n",
        "X_train, X_test, y_train, y_test = train_test_split(X, y, test_size = 0.2)\n",
        "\n",
        "# # Transformer\n",
        "# scaler = StandardScaler()\n",
        "# X_train_transformed = scaler.fit_transform(X_train)\n",
        "\n",
        "# # Estimator\n",
        "# model = SGDClassifier()\n",
        "# model.fit(X_train_transformed, y_train)\n",
        "\n",
        "# # Test\n",
        "# X_test_transformed = scaler.transform(X_test)\n",
        "# model.predict(X_test_transformed)\n",
        "\n",
        "model = make_pipeline(StandardScaler(), SGDClassifier())\n",
        "\n",
        "model.fit(X_train, y_train)\n",
        "model.predict(X_test)"
      ],
      "metadata": {
        "colab": {
          "base_uri": "https://localhost:8080/"
        },
        "id": "eDnBhyEuqh72",
        "outputId": "bc9035af-6078-4c3e-fd77-1e316565201d"
      },
      "execution_count": 109,
      "outputs": [
        {
          "output_type": "execute_result",
          "data": {
            "text/plain": [
              "array([2, 1, 1, 2, 0, 0, 0, 2, 0, 1, 2, 1, 1, 2, 2, 1, 2, 1, 0, 0, 2, 1,\n",
              "       2, 1, 1, 0, 0, 1, 1, 0])"
            ]
          },
          "metadata": {},
          "execution_count": 109
        }
      ]
    },
    {
      "cell_type": "code",
      "source": [
        "from sklearn.preprocessing import PolynomialFeatures\n",
        "\n",
        "model = make_pipeline(PolynomialFeatures(), StandardScaler(), SGDClassifier())\n",
        "\n",
        "params = {\n",
        "    'polynomialfeatures__degree': [2, 3, 4],\n",
        "    'sgdclassifier__penalty': ['l1', 'l2']\n",
        "}\n",
        "\n",
        "grid = GridSearchCV(model, param_grid = params, cv = 4)\n",
        "grid.fit(X_train, y_train)\n",
        "\n",
        "print(grid.best_params_)\n",
        "print(grid.best_score_)"
      ],
      "metadata": {
        "colab": {
          "base_uri": "https://localhost:8080/"
        },
        "id": "zEcu9ddbtR8V",
        "outputId": "c15fc40d-7063-4cb3-9b4f-84711fad1bd9"
      },
      "execution_count": 111,
      "outputs": [
        {
          "output_type": "stream",
          "name": "stdout",
          "text": [
            "{'polynomialfeatures__degree': 2, 'sgdclassifier__penalty': 'l2'}\n",
            "0.9750000000000001\n"
          ]
        }
      ]
    },
    {
      "cell_type": "code",
      "source": [
        "import numpy as np\n",
        "from sklearn.impute import SimpleImputer, KNNImputer\n",
        "\n",
        "# Simple Imputer (mean, median, most_frequent, constant)\n",
        "X = np.array([[10, 3],\n",
        "              [0, 4],\n",
        "              [5, 3],\n",
        "              [np.nan, 3]])\n",
        "\n",
        "print(SimpleImputer(missing_values = np.nan, strategy = 'mean').fit_transform(X))\n",
        "print()\n",
        "\n",
        "# KNNImputer\n",
        "X = np.array([[1, 100],\n",
        "              [2, 30],\n",
        "              [3, 15],\n",
        "              [np.nan, 20]])\n",
        "\n",
        "print(KNNImputer(n_neighbors = 1).fit_transform(X))"
      ],
      "metadata": {
        "colab": {
          "base_uri": "https://localhost:8080/"
        },
        "id": "msV5KeBc74xq",
        "outputId": "be694478-8f29-4fc9-8909-9c53a43c8153"
      },
      "execution_count": 117,
      "outputs": [
        {
          "output_type": "stream",
          "name": "stdout",
          "text": [
            "[[10.  3.]\n",
            " [ 0.  4.]\n",
            " [ 5.  3.]\n",
            " [ 5.  3.]]\n",
            "\n",
            "[[  1. 100.]\n",
            " [  2.  30.]\n",
            " [  3.  15.]\n",
            " [  3.  20.]]\n"
          ]
        }
      ]
    },
    {
      "cell_type": "markdown",
      "source": [
        "# Repérage des variables redondantes\n",
        "A l'aide de la matrice corrélation, repérer les variables qui sont fortement corrélées.\n"
      ],
      "metadata": {
        "id": "mk2rpDGyrc-A"
      }
    },
    {
      "cell_type": "code",
      "source": [],
      "metadata": {
        "id": "1qlpqH6Or7R0"
      },
      "execution_count": null,
      "outputs": []
    },
    {
      "cell_type": "markdown",
      "source": [
        "# Elimination des variables redondantes\n",
        "Choisissez des variables à éliminer et refaîtes un entrainement sur le KNN. Observez le changement de performances."
      ],
      "metadata": {
        "id": "jrjqChujr74J"
      }
    },
    {
      "cell_type": "code",
      "source": [],
      "metadata": {
        "id": "a6wjuSt4ur3G"
      },
      "execution_count": null,
      "outputs": []
    }
  ]
}