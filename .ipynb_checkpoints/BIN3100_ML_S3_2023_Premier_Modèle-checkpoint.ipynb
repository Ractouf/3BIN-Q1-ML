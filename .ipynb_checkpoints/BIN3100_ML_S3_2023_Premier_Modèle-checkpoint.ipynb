{
 "cells": [
  {
   "cell_type": "markdown",
   "metadata": {
    "id": "GwNPr1HKgrmH"
   },
   "source": [
    "#BIN3100 ML S3\n",
    "\n",
    "## Théorie: Vidéos\n",
    "\n",
    "Dans cette leçon nous apprendrons à construire et valider un premier modèle de Machine Learning\n",
    "Il y a trois vidéos à regarder obligatoirement. Ces vidéos durent un total d'un peu moins d'une heure. Je vous suggère pour en tirer un maximum d'ouvrir un colab pour écrire et exécuter de votre côté le code que le YouTuber écrit.\n",
    "\n",
    "1. [PYTHON SKLEARN: KNN, LinearRegression et SUPERVISED LEARNING](https://www.youtube.com/watch?v=P6kSc3qVph0&list=PLO_fdPEVlfKqMDNmCFzQISI2H_nJcEDJq&index=20)\n",
    "2. [PYTHON SKLEARN - MODEL SELECTION : Train_test_split, Cross Validation, GridSearchCV](https://www.youtube.com/watch?v=w_bLGK4Pteo&list=PLO_fdPEVlfKqMDNmCFzQISI2H_nJcEDJq&index=21)\n",
    "3. [CROSS-VALIDATION SKLEARN PYTHON](https://www.youtube.com/watch?v=VoyMOVfCSfc&list=PLO_fdPEVlfKqMDNmCFzQISI2H_nJcEDJq&index=22)\n",
    "\n",
    "La vidéo suivante est optionnelle.\n",
    "4. [MÉTRIQUES de RÉGRESSIONS en DATA SCIENCE](https://www.youtube.com/watch?v=VoyMOVfCSfc&list=PLO_fdPEVlfKqMDNmCFzQISI2H_nJcEDJq&index=23)"
   ]
  },
  {
   "cell_type": "markdown",
   "metadata": {
    "id": "0kaolZSOeOYn"
   },
   "source": [
    "##  Une étude de cas: détection du cancer du sein"
   ]
  },
  {
   "cell_type": "code",
   "execution_count": 7,
   "metadata": {
    "id": "cxbLi3mq4cwe"
   },
   "outputs": [
    {
     "name": "stdout",
     "output_type": "stream",
     "text": [
      ".. _breast_cancer_dataset:\n",
      "\n",
      "Breast cancer wisconsin (diagnostic) dataset\n",
      "--------------------------------------------\n",
      "\n",
      "**Data Set Characteristics:**\n",
      "\n",
      "    :Number of Instances: 569\n",
      "\n",
      "    :Number of Attributes: 30 numeric, predictive attributes and the class\n",
      "\n",
      "    :Attribute Information:\n",
      "        - radius (mean of distances from center to points on the perimeter)\n",
      "        - texture (standard deviation of gray-scale values)\n",
      "        - perimeter\n",
      "        - area\n",
      "        - smoothness (local variation in radius lengths)\n",
      "        - compactness (perimeter^2 / area - 1.0)\n",
      "        - concavity (severity of concave portions of the contour)\n",
      "        - concave points (number of concave portions of the contour)\n",
      "        - symmetry\n",
      "        - fractal dimension (\"coastline approximation\" - 1)\n",
      "\n",
      "        The mean, standard error, and \"worst\" or largest (mean of the three\n",
      "        worst/largest values) of these features were computed for each image,\n",
      "        resulting in 30 features.  For instance, field 0 is Mean Radius, field\n",
      "        10 is Radius SE, field 20 is Worst Radius.\n",
      "\n",
      "        - class:\n",
      "                - WDBC-Malignant\n",
      "                - WDBC-Benign\n",
      "\n",
      "    :Summary Statistics:\n",
      "\n",
      "    ===================================== ====== ======\n",
      "                                           Min    Max\n",
      "    ===================================== ====== ======\n",
      "    radius (mean):                        6.981  28.11\n",
      "    texture (mean):                       9.71   39.28\n",
      "    perimeter (mean):                     43.79  188.5\n",
      "    area (mean):                          143.5  2501.0\n",
      "    smoothness (mean):                    0.053  0.163\n",
      "    compactness (mean):                   0.019  0.345\n",
      "    concavity (mean):                     0.0    0.427\n",
      "    concave points (mean):                0.0    0.201\n",
      "    symmetry (mean):                      0.106  0.304\n",
      "    fractal dimension (mean):             0.05   0.097\n",
      "    radius (standard error):              0.112  2.873\n",
      "    texture (standard error):             0.36   4.885\n",
      "    perimeter (standard error):           0.757  21.98\n",
      "    area (standard error):                6.802  542.2\n",
      "    smoothness (standard error):          0.002  0.031\n",
      "    compactness (standard error):         0.002  0.135\n",
      "    concavity (standard error):           0.0    0.396\n",
      "    concave points (standard error):      0.0    0.053\n",
      "    symmetry (standard error):            0.008  0.079\n",
      "    fractal dimension (standard error):   0.001  0.03\n",
      "    radius (worst):                       7.93   36.04\n",
      "    texture (worst):                      12.02  49.54\n",
      "    perimeter (worst):                    50.41  251.2\n",
      "    area (worst):                         185.2  4254.0\n",
      "    smoothness (worst):                   0.071  0.223\n",
      "    compactness (worst):                  0.027  1.058\n",
      "    concavity (worst):                    0.0    1.252\n",
      "    concave points (worst):               0.0    0.291\n",
      "    symmetry (worst):                     0.156  0.664\n",
      "    fractal dimension (worst):            0.055  0.208\n",
      "    ===================================== ====== ======\n",
      "\n",
      "    :Missing Attribute Values: None\n",
      "\n",
      "    :Class Distribution: 212 - Malignant, 357 - Benign\n",
      "\n",
      "    :Creator:  Dr. William H. Wolberg, W. Nick Street, Olvi L. Mangasarian\n",
      "\n",
      "    :Donor: Nick Street\n",
      "\n",
      "    :Date: November, 1995\n",
      "\n",
      "This is a copy of UCI ML Breast Cancer Wisconsin (Diagnostic) datasets.\n",
      "https://goo.gl/U2Uwz2\n",
      "\n",
      "Features are computed from a digitized image of a fine needle\n",
      "aspirate (FNA) of a breast mass.  They describe\n",
      "characteristics of the cell nuclei present in the image.\n",
      "\n",
      "Separating plane described above was obtained using\n",
      "Multisurface Method-Tree (MSM-T) [K. P. Bennett, \"Decision Tree\n",
      "Construction Via Linear Programming.\" Proceedings of the 4th\n",
      "Midwest Artificial Intelligence and Cognitive Science Society,\n",
      "pp. 97-101, 1992], a classification method which uses linear\n",
      "programming to construct a decision tree.  Relevant features\n",
      "were selected using an exhaustive search in the space of 1-4\n",
      "features and 1-3 separating planes.\n",
      "\n",
      "The actual linear program used to obtain the separating plane\n",
      "in the 3-dimensional space is that described in:\n",
      "[K. P. Bennett and O. L. Mangasarian: \"Robust Linear\n",
      "Programming Discrimination of Two Linearly Inseparable Sets\",\n",
      "Optimization Methods and Software 1, 1992, 23-34].\n",
      "\n",
      "This database is also available through the UW CS ftp server:\n",
      "\n",
      "ftp ftp.cs.wisc.edu\n",
      "cd math-prog/cpo-dataset/machine-learn/WDBC/\n",
      "\n",
      ".. topic:: References\n",
      "\n",
      "   - W.N. Street, W.H. Wolberg and O.L. Mangasarian. Nuclear feature extraction \n",
      "     for breast tumor diagnosis. IS&T/SPIE 1993 International Symposium on \n",
      "     Electronic Imaging: Science and Technology, volume 1905, pages 861-870,\n",
      "     San Jose, CA, 1993.\n",
      "   - O.L. Mangasarian, W.N. Street and W.H. Wolberg. Breast cancer diagnosis and \n",
      "     prognosis via linear programming. Operations Research, 43(4), pages 570-577, \n",
      "     July-August 1995.\n",
      "   - W.H. Wolberg, W.N. Street, and O.L. Mangasarian. Machine learning techniques\n",
      "     to diagnose breast cancer from fine-needle aspirates. Cancer Letters 77 (1994) \n",
      "     163-171.\n"
     ]
    }
   ],
   "source": [
    "#import des bibliothèques de base\n",
    "import numpy as np\n",
    "import pandas as pd\n",
    "#import du data wine recognition depuis sklearn\n",
    "from sklearn import datasets\n",
    "data = datasets.load_breast_cancer()\n",
    "print(data.DESCR)"
   ]
  },
  {
   "cell_type": "markdown",
   "metadata": {
    "id": "t35vsVZdhtVp"
   },
   "source": [
    "##Quel objectif initial vous êtes-vous fixé?"
   ]
  },
  {
   "cell_type": "markdown",
   "metadata": {
    "id": "tV5MPxhU4lCs"
   },
   "source": []
  },
  {
   "cell_type": "markdown",
   "metadata": {
    "id": "YvsHREABh7ty"
   },
   "source": [
    "<font color='red'> Répondez à cette question ici\n",
    "\n",
    "---\n",
    "\n",
    "\n"
   ]
  },
  {
   "cell_type": "markdown",
   "metadata": {
    "id": "C6r0_Cediieg"
   },
   "source": [
    "##Exploration des données"
   ]
  },
  {
   "cell_type": "markdown",
   "metadata": {
    "id": "OjWr5EL5j0Am"
   },
   "source": [
    "Exploratory Data Analysis\n",
    "\n",
    "Objectif: comprendre au maximum les données dont on dispose pour définir une stratégie de modélisation.\n",
    "\n",
    "\n",
    "1.   Analyse de la forme:\n",
    "\n",
    "  a. Identification de la target: <font color='red'> Quel est votre target? </font>\n",
    "\n",
    "  b. Nombre des lignes et de colonnes: <font color='red'> Quelle est la forme de votre dataset? </font>\n",
    "\n",
    "  c. Types de variables: <font color='red'> Quelles sont les types de vos données?</font>\n",
    "\n",
    "2.   Analyse du fond:\n",
    "\n",
    "  a. Visualisation de la target <font color='red'>\n",
    "\n",
    "\tb. Compréhension des différentes variables\n",
    "\n"
   ]
  },
  {
   "cell_type": "markdown",
   "metadata": {
    "id": "S9QVj2GXpfC3"
   },
   "source": [
    "<font color='red'>Analyse de la forme: Répondez-ici </font>\n",
    "\n"
   ]
  },
  {
   "cell_type": "markdown",
   "metadata": {
    "id": "j5ih2laAlov0"
   },
   "source": [
    "\n",
    "<font color='red'> Analyse de fond Répondez-ici </font>"
   ]
  },
  {
   "cell_type": "markdown",
   "metadata": {
    "id": "bFk-lObYVBK7"
   },
   "source": [
    "##Construisez votre modèle ici\n",
    "\n",
    "Utilisez un knn pour pour pour créer un premier modèle.\n",
    "\n",
    "Essayez de produire du code le plus indépendant possible du modèle utilisé."
   ]
  },
  {
   "cell_type": "code",
   "execution_count": null,
   "metadata": {
    "id": "i91Ee2Arvo20"
   },
   "outputs": [],
   "source": []
  },
  {
   "cell_type": "markdown",
   "metadata": {
    "id": "y03s4lHNfIfB"
   },
   "source": [
    "##Testez votre modèle ici\n",
    "\n",
    "Mesurez la performance du modèle.\n",
    "\n"
   ]
  },
  {
   "cell_type": "code",
   "execution_count": null,
   "metadata": {
    "id": "7RIQuQ8_fPfD"
   },
   "outputs": [],
   "source": []
  },
  {
   "cell_type": "markdown",
   "metadata": {
    "id": "STW0Nb-3kNIa"
   },
   "source": [
    "## La meilleure valeur de voisins\n",
    "\n",
    "Écrivez un programme qui permet de trouver la meilleure valeur de voisin n_neighbors possible pour le modele de KNeighborsClassifier."
   ]
  },
  {
   "cell_type": "code",
   "execution_count": null,
   "metadata": {
    "id": "TGJJsq1SkmWt"
   },
   "outputs": [],
   "source": []
  },
  {
   "cell_type": "markdown",
   "metadata": {
    "id": "gzv9VciiHxx_"
   },
   "source": [
    "## Learning curve\n",
    "\n",
    "A l'aide de la learning curve, essayez de voir à partir de combien d'exemple le modèle n'améliore plus vraiment ses performances."
   ]
  },
  {
   "cell_type": "code",
   "execution_count": null,
   "metadata": {
    "id": "mb7jhEuWIDna"
   },
   "outputs": [],
   "source": []
  },
  {
   "cell_type": "markdown",
   "metadata": {
    "id": "g-5H2lZnIEG0"
   },
   "source": [
    "## Decision Tree\n",
    "Faites un nouveau modèle à l'aide d'un arbre de décision et comparez les performances avec le knn."
   ]
  },
  {
   "cell_type": "code",
   "execution_count": null,
   "metadata": {
    "id": "Uf1h1PwJrZxD"
   },
   "outputs": [],
   "source": []
  },
  {
   "cell_type": "markdown",
   "metadata": {
    "id": "mk2rpDGyrc-A"
   },
   "source": [
    "# Repérage des variables redondantes\n",
    "A l'aide de la matrice corrélation, repérer les variables qui sont fortement corrélées.\n"
   ]
  },
  {
   "cell_type": "code",
   "execution_count": null,
   "metadata": {
    "id": "1qlpqH6Or7R0"
   },
   "outputs": [],
   "source": []
  },
  {
   "cell_type": "markdown",
   "metadata": {
    "id": "jrjqChujr74J"
   },
   "source": [
    "# Elimination des variables redondantes\n",
    "Choisissez des variables à éliminer et refaîtes un entrainement sur le KNN. Observez le changement de performances."
   ]
  },
  {
   "cell_type": "code",
   "execution_count": null,
   "metadata": {
    "id": "a6wjuSt4ur3G"
   },
   "outputs": [],
   "source": []
  }
 ],
 "metadata": {
  "colab": {
   "provenance": []
  },
  "kernelspec": {
   "display_name": "Python 3 (ipykernel)",
   "language": "python",
   "name": "python3"
  },
  "language_info": {
   "codemirror_mode": {
    "name": "ipython",
    "version": 3
   },
   "file_extension": ".py",
   "mimetype": "text/x-python",
   "name": "python",
   "nbconvert_exporter": "python",
   "pygments_lexer": "ipython3",
   "version": "3.11.4"
  }
 },
 "nbformat": 4,
 "nbformat_minor": 1
}
